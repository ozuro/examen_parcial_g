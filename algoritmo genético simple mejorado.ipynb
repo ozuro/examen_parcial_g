{
 "cells": [
  {
   "cell_type": "code",
   "execution_count": 225,
   "metadata": {},
   "outputs": [],
   "source": [
    "#algorimto genetico\n",
    "import random"
   ]
  },
  {
   "cell_type": "code",
   "execution_count": 226,
   "metadata": {},
   "outputs": [
    {
     "name": "stdout",
     "output_type": "stream",
     "text": [
      "modelo =  [1, 0, 0, 1, 1, 0, 0, 0, 0]\n"
     ]
    }
   ],
   "source": [
    " # el valor mas maximo\n",
    "modelo = [1,0,0,1,1,0,0,0,0]\n",
    "long_cromosoma = 10\n",
    "num_poblacion = 20 \n",
    "prob_cruce = 3\n",
    "prob_mutacion = 0.1\n",
    "print(\"modelo = \",modelo)"
   ]
  },
  {
   "cell_type": "code",
   "execution_count": 227,
   "metadata": {},
   "outputs": [
    {
     "name": "stdout",
     "output_type": "stream",
     "text": [
      "el valor mas minimo en decimal: (2, 48)\n"
     ]
    }
   ],
   "source": [
    "def bin_decimal(modelo):\n",
    "    d1 = 2\n",
    "    d2 = 64\n",
    "    parte_entera=0\n",
    "    parte_decim = 0\n",
    "    for i in range(len(modelo)):\n",
    "        if(i<2):\n",
    "            parte_entera = parte_entera + modelo[i]*d1\n",
    "            d1=d1/2\n",
    "        else:\n",
    "            parte_decim = parte_decim + modelo[i]*d2\n",
    "            d2=d2/2\n",
    "            \n",
    "    return round(parte_entera), round(parte_decim)\n",
    "print(\"el valor mas minimo en decimal:\",bin_decimal(modelo))\n",
    "#el valor mas minimo"
   ]
  },
  {
   "cell_type": "code",
   "execution_count": 228,
   "metadata": {},
   "outputs": [
    {
     "name": "stdout",
     "output_type": "stream",
     "text": [
      "[0, 0, 0, 0, 0, 0, 0, 0, 0, 1]\n"
     ]
    }
   ],
   "source": [
    "#creacion de un individuo \n",
    "def individuo (_min, _max):\n",
    "    ind = []\n",
    "    for i in range (long_cromosoma):\n",
    "        ind.append(random.randint(_min, _max))\n",
    "     #controlamos el rango de en la generacion:  \n",
    "        if i==1 or i==2 or i==5 or i==6 or i==7 or i==8:\n",
    "            ind[i]=0\n",
    "    return ind\n",
    "a = individuo(0,1)\n",
    "print (a)"
   ]
  },
  {
   "cell_type": "code",
   "execution_count": 229,
   "metadata": {},
   "outputs": [
    {
     "name": "stdout",
     "output_type": "stream",
     "text": [
      "[[1, 0, 0, 1, 0, 0, 0, 0, 0, 0], [0, 0, 0, 1, 0, 0, 0, 0, 0, 1], [0, 0, 0, 0, 0, 0, 0, 0, 0, 1], [1, 0, 0, 0, 0, 0, 0, 0, 0, 0], [0, 0, 0, 1, 0, 0, 0, 0, 0, 0], [1, 0, 0, 0, 1, 0, 0, 0, 0, 1], [0, 0, 0, 1, 0, 0, 0, 0, 0, 1], [0, 0, 0, 1, 0, 0, 0, 0, 0, 0], [0, 0, 0, 0, 0, 0, 0, 0, 0, 0], [1, 0, 0, 1, 1, 0, 0, 0, 0, 0], [0, 0, 0, 1, 1, 0, 0, 0, 0, 1], [1, 0, 0, 0, 1, 0, 0, 0, 0, 0], [0, 0, 0, 1, 0, 0, 0, 0, 0, 1], [1, 0, 0, 0, 1, 0, 0, 0, 0, 1], [1, 0, 0, 0, 1, 0, 0, 0, 0, 1], [1, 0, 0, 0, 1, 0, 0, 0, 0, 1], [1, 0, 0, 1, 0, 0, 0, 0, 0, 1], [1, 0, 0, 0, 0, 0, 0, 0, 0, 0], [0, 0, 0, 1, 0, 0, 0, 0, 0, 1], [1, 0, 0, 1, 0, 0, 0, 0, 0, 0]]\n"
     ]
    }
   ],
   "source": [
    "# generamos conjunto de individuos\n",
    "def genera_poblacion(num):\n",
    "    poblacion = []\n",
    "    for i in range (num):\n",
    "        poblacion.append( individuo(0,1)) \n",
    "    return poblacion\n",
    "\n",
    "poblacion = genera_poblacion(num_poblacion)\n",
    "print(poblacion)"
   ]
  },
  {
   "cell_type": "code",
   "execution_count": 230,
   "metadata": {},
   "outputs": [],
   "source": [
    "#realizamos una compraracion la poblacion inicial con el modelo \n",
    "def calcular_fitness(individuo):\n",
    "    \n",
    "    aptitud=0\n",
    "    for i in range( len(individuo) ):\n",
    "        if individuo[i] == modelo [i]:\n",
    "            aptitud +=1\n",
    "    return aptitud\n",
    "    \n",
    "   # print (\"cromosoma _fitness: \")\n",
    "    #for i in range (len(poblacion)):\n",
    "     #   print(poblacion[i],\"=\",calcular_fitness(poblacion[i]) )\n",
    "      #  print(\"\\n\\n\")\n",
    "        \n",
    "        \n"
   ]
  },
  {
   "cell_type": "code",
   "execution_count": 231,
   "metadata": {},
   "outputs": [],
   "source": [
    "#seleccion por torneo seleccionamos los que tengan mayor fitness \n",
    "def seleccion_cruce(sobresalientes):\n",
    "    \n",
    "    seleccionados = [(calcular_fitness(i),i) for i in sobresalientes]\n",
    "    seleccionados = [i[1] for i in sorted(seleccionados)]\n",
    "   # vector.append(random.randint(seleccionados))\n",
    "        padre1 = [i[1] for i in random.randint(seleccionados[0],seleccionados[19])]\n",
    "        padre2 = [i[1] for i in random.randint(seleccionados)]\n",
    "       # vector.append(random.randint(seleccionados))\n",
    "        sobresalientes = seleccionados\n",
    "        if(padre1>padre2):\n",
    "            seleccion_final = padre1\n",
    "        else:\n",
    "            seleccion_final = padre2\n",
    "        seleccion_final = seleccionados [len(seleccionados)-prob_cruce:]\n",
    "    sobresalientes = seleccionados\n",
    "    \n",
    "    seleccion_final = seleccionados [len(seleccionados)-prob_cruce:]\n",
    "    \n",
    "    #cruce de un solo punto \n",
    "    for i in range (len(sobresalientes)-prob_cruce):\n",
    "        pivote= random.randint(1, long_cromosoma -1)\n",
    "        padre = random.sample(seleccion_final, 2)\n",
    "        \n",
    "        sobresalientes[i][:pivote] = padre[0][:pivote]\n",
    "        sobresalientes[i][pivote:] = padre[1][pivote:]\n",
    "    return sobresalientes\n",
    "\n"
   ]
  },
  {
   "cell_type": "code",
   "execution_count": 232,
   "metadata": {},
   "outputs": [],
   "source": [
    "def mutacion (sobresalientes):\n",
    "    for i in range(len(sobresalientes)):\n",
    "        #print (i)\n",
    "        if random.random() <= prob_mutacion:\n",
    "            pivote = random.randint(0,long_cromosoma-1)\n",
    "            nuevo_valor = random.randint(0,1)\n",
    "      \n",
    "            \n",
    "            sobresalientes[i][pivote] = nuevo_valor\n",
    "    return sobresalientes"
   ]
  },
  {
   "cell_type": "code",
   "execution_count": 233,
   "metadata": {
    "scrolled": false
   },
   "outputs": [
    {
     "name": "stdout",
     "output_type": "stream",
     "text": [
      "poblacion inicial:\n",
      "[1, 0, 0, 1, 1, 0, 0, 0, 0, 0]\n",
      "[0, 0, 0, 1, 0, 0, 0, 0, 0, 1]\n",
      "[0, 0, 0, 1, 1, 0, 0, 0, 0, 1]\n",
      "[0, 0, 0, 0, 1, 0, 0, 0, 0, 0]\n",
      "[0, 0, 0, 1, 0, 0, 0, 0, 0, 0]\n",
      "[1, 0, 0, 0, 1, 0, 0, 0, 0, 1]\n",
      "[1, 0, 0, 0, 1, 0, 0, 0, 0, 0]\n",
      "[0, 0, 0, 0, 0, 0, 0, 0, 0, 0]\n",
      "[1, 0, 0, 0, 0, 0, 0, 0, 0, 1]\n",
      "[1, 0, 0, 1, 1, 0, 0, 0, 0, 0]\n",
      "[0, 0, 0, 1, 1, 0, 0, 0, 0, 1]\n",
      "[0, 0, 0, 0, 1, 0, 0, 0, 0, 0]\n",
      "[1, 0, 0, 1, 0, 0, 0, 0, 0, 1]\n",
      "[0, 0, 0, 0, 0, 0, 0, 0, 0, 0]\n",
      "[0, 0, 0, 1, 0, 0, 0, 0, 0, 1]\n",
      "[1, 0, 0, 0, 1, 0, 0, 0, 0, 0]\n",
      "[1, 0, 0, 0, 1, 0, 0, 0, 0, 1]\n",
      "[0, 0, 0, 1, 1, 0, 0, 0, 0, 1]\n",
      "[0, 0, 0, 0, 0, 0, 0, 0, 0, 1]\n",
      "[1, 0, 0, 1, 0, 0, 0, 0, 0, 0]\n"
     ]
    },
    {
     "ename": "IndexError",
     "evalue": "list index out of range",
     "output_type": "error",
     "traceback": [
      "\u001b[1;31m---------------------------------------------------------------------------\u001b[0m",
      "\u001b[1;31mIndexError\u001b[0m                                Traceback (most recent call last)",
      "\u001b[1;32m<ipython-input-233-9cc659efdc43>\u001b[0m in \u001b[0;36m<module>\u001b[1;34m\u001b[0m\n\u001b[0;32m      6\u001b[0m \u001b[1;31m#evolucion\u001b[0m\u001b[1;33m\u001b[0m\u001b[1;33m\u001b[0m\u001b[1;33m\u001b[0m\u001b[0m\n\u001b[0;32m      7\u001b[0m \u001b[1;32mfor\u001b[0m \u001b[0mi\u001b[0m \u001b[1;32min\u001b[0m \u001b[0mrange\u001b[0m \u001b[1;33m(\u001b[0m\u001b[1;36m100\u001b[0m\u001b[1;33m)\u001b[0m\u001b[1;33m:\u001b[0m\u001b[1;33m\u001b[0m\u001b[1;33m\u001b[0m\u001b[0m\n\u001b[1;32m----> 8\u001b[1;33m     \u001b[0msobresalientes\u001b[0m \u001b[1;33m=\u001b[0m \u001b[0mseleccion_cruce\u001b[0m\u001b[1;33m(\u001b[0m\u001b[0msobresalientes\u001b[0m\u001b[1;33m)\u001b[0m\u001b[1;33m\u001b[0m\u001b[1;33m\u001b[0m\u001b[0m\n\u001b[0m\u001b[0;32m      9\u001b[0m     \u001b[0msobresalientes\u001b[0m \u001b[1;33m=\u001b[0m \u001b[0mmutacion\u001b[0m\u001b[1;33m(\u001b[0m\u001b[0msobresalientes\u001b[0m\u001b[1;33m)\u001b[0m\u001b[1;33m\u001b[0m\u001b[1;33m\u001b[0m\u001b[0m\n\u001b[0;32m     10\u001b[0m \u001b[1;33m\u001b[0m\u001b[0m\n",
      "\u001b[1;32m<ipython-input-231-781f7cbea435>\u001b[0m in \u001b[0;36mseleccion_cruce\u001b[1;34m(sobresalientes)\u001b[0m\n\u001b[0;32m      2\u001b[0m \u001b[1;32mdef\u001b[0m \u001b[0mseleccion_cruce\u001b[0m\u001b[1;33m(\u001b[0m\u001b[0msobresalientes\u001b[0m\u001b[1;33m)\u001b[0m\u001b[1;33m:\u001b[0m\u001b[1;33m\u001b[0m\u001b[1;33m\u001b[0m\u001b[0m\n\u001b[0;32m      3\u001b[0m \u001b[1;33m\u001b[0m\u001b[0m\n\u001b[1;32m----> 4\u001b[1;33m     \u001b[0mseleccionados\u001b[0m \u001b[1;33m=\u001b[0m \u001b[1;33m[\u001b[0m\u001b[1;33m(\u001b[0m\u001b[0mcalcular_fitness\u001b[0m\u001b[1;33m(\u001b[0m\u001b[0mi\u001b[0m\u001b[1;33m)\u001b[0m\u001b[1;33m,\u001b[0m\u001b[0mi\u001b[0m\u001b[1;33m)\u001b[0m \u001b[1;32mfor\u001b[0m \u001b[0mi\u001b[0m \u001b[1;32min\u001b[0m \u001b[0msobresalientes\u001b[0m\u001b[1;33m]\u001b[0m\u001b[1;33m\u001b[0m\u001b[1;33m\u001b[0m\u001b[0m\n\u001b[0m\u001b[0;32m      5\u001b[0m     \u001b[0mseleccionados\u001b[0m \u001b[1;33m=\u001b[0m \u001b[1;33m[\u001b[0m\u001b[0mi\u001b[0m\u001b[1;33m[\u001b[0m\u001b[1;36m1\u001b[0m\u001b[1;33m]\u001b[0m \u001b[1;32mfor\u001b[0m \u001b[0mi\u001b[0m \u001b[1;32min\u001b[0m \u001b[0msorted\u001b[0m\u001b[1;33m(\u001b[0m\u001b[0mseleccionados\u001b[0m\u001b[1;33m)\u001b[0m\u001b[1;33m]\u001b[0m\u001b[1;33m\u001b[0m\u001b[1;33m\u001b[0m\u001b[0m\n\u001b[0;32m      6\u001b[0m    \u001b[1;31m# vector.append(random.randint(seleccionados))\u001b[0m\u001b[1;33m\u001b[0m\u001b[1;33m\u001b[0m\u001b[1;33m\u001b[0m\u001b[0m\n",
      "\u001b[1;32m<ipython-input-231-781f7cbea435>\u001b[0m in \u001b[0;36m<listcomp>\u001b[1;34m(.0)\u001b[0m\n\u001b[0;32m      2\u001b[0m \u001b[1;32mdef\u001b[0m \u001b[0mseleccion_cruce\u001b[0m\u001b[1;33m(\u001b[0m\u001b[0msobresalientes\u001b[0m\u001b[1;33m)\u001b[0m\u001b[1;33m:\u001b[0m\u001b[1;33m\u001b[0m\u001b[1;33m\u001b[0m\u001b[0m\n\u001b[0;32m      3\u001b[0m \u001b[1;33m\u001b[0m\u001b[0m\n\u001b[1;32m----> 4\u001b[1;33m     \u001b[0mseleccionados\u001b[0m \u001b[1;33m=\u001b[0m \u001b[1;33m[\u001b[0m\u001b[1;33m(\u001b[0m\u001b[0mcalcular_fitness\u001b[0m\u001b[1;33m(\u001b[0m\u001b[0mi\u001b[0m\u001b[1;33m)\u001b[0m\u001b[1;33m,\u001b[0m\u001b[0mi\u001b[0m\u001b[1;33m)\u001b[0m \u001b[1;32mfor\u001b[0m \u001b[0mi\u001b[0m \u001b[1;32min\u001b[0m \u001b[0msobresalientes\u001b[0m\u001b[1;33m]\u001b[0m\u001b[1;33m\u001b[0m\u001b[1;33m\u001b[0m\u001b[0m\n\u001b[0m\u001b[0;32m      5\u001b[0m     \u001b[0mseleccionados\u001b[0m \u001b[1;33m=\u001b[0m \u001b[1;33m[\u001b[0m\u001b[0mi\u001b[0m\u001b[1;33m[\u001b[0m\u001b[1;36m1\u001b[0m\u001b[1;33m]\u001b[0m \u001b[1;32mfor\u001b[0m \u001b[0mi\u001b[0m \u001b[1;32min\u001b[0m \u001b[0msorted\u001b[0m\u001b[1;33m(\u001b[0m\u001b[0mseleccionados\u001b[0m\u001b[1;33m)\u001b[0m\u001b[1;33m]\u001b[0m\u001b[1;33m\u001b[0m\u001b[1;33m\u001b[0m\u001b[0m\n\u001b[0;32m      6\u001b[0m    \u001b[1;31m# vector.append(random.randint(seleccionados))\u001b[0m\u001b[1;33m\u001b[0m\u001b[1;33m\u001b[0m\u001b[1;33m\u001b[0m\u001b[0m\n",
      "\u001b[1;32m<ipython-input-230-4ed244d0e662>\u001b[0m in \u001b[0;36mcalcular_fitness\u001b[1;34m(individuo)\u001b[0m\n\u001b[0;32m      4\u001b[0m     \u001b[0maptitud\u001b[0m\u001b[1;33m=\u001b[0m\u001b[1;36m0\u001b[0m\u001b[1;33m\u001b[0m\u001b[1;33m\u001b[0m\u001b[0m\n\u001b[0;32m      5\u001b[0m     \u001b[1;32mfor\u001b[0m \u001b[0mi\u001b[0m \u001b[1;32min\u001b[0m \u001b[0mrange\u001b[0m\u001b[1;33m(\u001b[0m \u001b[0mlen\u001b[0m\u001b[1;33m(\u001b[0m\u001b[0mindividuo\u001b[0m\u001b[1;33m)\u001b[0m \u001b[1;33m)\u001b[0m\u001b[1;33m:\u001b[0m\u001b[1;33m\u001b[0m\u001b[1;33m\u001b[0m\u001b[0m\n\u001b[1;32m----> 6\u001b[1;33m         \u001b[1;32mif\u001b[0m \u001b[0mindividuo\u001b[0m\u001b[1;33m[\u001b[0m\u001b[0mi\u001b[0m\u001b[1;33m]\u001b[0m \u001b[1;33m==\u001b[0m \u001b[0mmodelo\u001b[0m \u001b[1;33m[\u001b[0m\u001b[0mi\u001b[0m\u001b[1;33m]\u001b[0m\u001b[1;33m:\u001b[0m\u001b[1;33m\u001b[0m\u001b[1;33m\u001b[0m\u001b[0m\n\u001b[0m\u001b[0;32m      7\u001b[0m             \u001b[0maptitud\u001b[0m \u001b[1;33m+=\u001b[0m\u001b[1;36m1\u001b[0m\u001b[1;33m\u001b[0m\u001b[1;33m\u001b[0m\u001b[0m\n\u001b[0;32m      8\u001b[0m     \u001b[1;32mreturn\u001b[0m \u001b[0maptitud\u001b[0m\u001b[1;33m\u001b[0m\u001b[1;33m\u001b[0m\u001b[0m\n",
      "\u001b[1;31mIndexError\u001b[0m: list index out of range"
     ]
    }
   ],
   "source": [
    "sobresalientes = genera_poblacion(num_poblacion)\n",
    "print(\"poblacion inicial:\") \n",
    "for i in range (len(sobresalientes)):\n",
    "    print (sobresalientes[i])\n",
    "\n",
    "#evolucion\n",
    "for i in range (100):\n",
    "    sobresalientes = seleccion_cruce(sobresalientes)\n",
    "    sobresalientes = mutacion(sobresalientes)\n",
    "\n",
    "print (\"poblacion final: \")\n",
    "for i in range (len(sobresalientes)):\n",
    "    print (sobresalientes[i])\n",
    "print(\"\\n\\n\")\n",
    "    "
   ]
  },
  {
   "cell_type": "code",
   "execution_count": 200,
   "metadata": {},
   "outputs": [
    {
     "ename": "SyntaxError",
     "evalue": "invalid syntax (<ipython-input-200-a86c45061927>, line 1)",
     "output_type": "error",
     "traceback": [
      "\u001b[1;36m  File \u001b[1;32m\"<ipython-input-200-a86c45061927>\"\u001b[1;36m, line \u001b[1;32m1\u001b[0m\n\u001b[1;33m    la mayoria se acerca a mas maximo basandose en un modelo\u001b[0m\n\u001b[1;37m             ^\u001b[0m\n\u001b[1;31mSyntaxError\u001b[0m\u001b[1;31m:\u001b[0m invalid syntax\n"
     ]
    }
   ],
   "source": [
    " la mayoria se acerca a mas maximo basandose en un modelo"
   ]
  },
  {
   "cell_type": "code",
   "execution_count": null,
   "metadata": {},
   "outputs": [],
   "source": []
  },
  {
   "cell_type": "code",
   "execution_count": null,
   "metadata": {},
   "outputs": [],
   "source": []
  }
 ],
 "metadata": {
  "kernelspec": {
   "display_name": "Python 3",
   "language": "python",
   "name": "python3"
  },
  "language_info": {
   "codemirror_mode": {
    "name": "ipython",
    "version": 3
   },
   "file_extension": ".py",
   "mimetype": "text/x-python",
   "name": "python",
   "nbconvert_exporter": "python",
   "pygments_lexer": "ipython3",
   "version": "3.7.3"
  }
 },
 "nbformat": 4,
 "nbformat_minor": 2
}
